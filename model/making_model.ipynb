{
 "cells": [
  {
   "cell_type": "code",
   "execution_count": 1,
   "metadata": {},
   "outputs": [],
   "source": [
    "import tensorflow as tf\n",
    "import pickle\n",
    "from tensorflow import keras\n",
    "from tensorflow.keras.layers import Dense, Dropout\n",
    "import numpy as np\n",
    "from tensorflow.keras.utils import to_categorical"
   ]
  },
  {
   "cell_type": "code",
   "execution_count": 2,
   "metadata": {},
   "outputs": [],
   "source": [
    "dataset_filename = r\"D:\\platinus_control_dlya_bedni\\datasets\\volume_change_dataset\\dataset_for_volume_change\\dataset_for_volume_change.pickle\""
   ]
  },
  {
   "cell_type": "code",
   "execution_count": 3,
   "metadata": {},
   "outputs": [],
   "source": [
    "with open(dataset_filename, 'rb') as f:\n",
    "    dataset = pickle.load(f)"
   ]
  },
  {
   "cell_type": "code",
   "execution_count": 4,
   "metadata": {},
   "outputs": [],
   "source": [
    "points = []\n",
    "mode = []\n",
    "for data_point in dataset:\n",
    "    points.append([data_point['tumb_x'], data_point['tumb_y'], data_point['point_x'], data_point['point_y'], data_point['writst_x'], data_point['wrist_y'], data_point['middle_x'], data_point['middle_y']])\n",
    "    mode.append([data_point['mode']])\n",
    "\n",
    "points = np.array(points)\n",
    "mode = to_categorical(mode, 4)\n",
    "mode = np.array(mode)"
   ]
  },
  {
   "cell_type": "code",
   "execution_count": 5,
   "metadata": {},
   "outputs": [],
   "source": [
    "model = keras.Sequential([\n",
    "    Dense(256, activation='relu', input_shape=(8,)),\n",
    "    Dropout(0.25),\n",
    "    Dense(128, activation='relu'),\n",
    "    Dropout(0.25),\n",
    "    Dense(128, activation='relu'),\n",
    "    Dense(4, activation='softmax')\n",
    "])"
   ]
  },
  {
   "cell_type": "code",
   "execution_count": 6,
   "metadata": {},
   "outputs": [],
   "source": [
    "model.compile(optimizer='adam',\n",
    "              loss='categorical_crossentropy',\n",
    "              metrics=['accuracy'],\n",
    "              )"
   ]
  },
  {
   "cell_type": "code",
   "execution_count": 7,
   "metadata": {},
   "outputs": [
    {
     "name": "stdout",
     "output_type": "stream",
     "text": [
      "Epoch 1/50\n",
      "35/35 [==============================] - 2s 5ms/step - loss: 14.4420 - accuracy: 0.3798\n",
      "Epoch 2/50\n",
      "35/35 [==============================] - 0s 6ms/step - loss: 4.6524 - accuracy: 0.4844\n",
      "Epoch 3/50\n",
      "35/35 [==============================] - 0s 5ms/step - loss: 2.3976 - accuracy: 0.5606\n",
      "Epoch 4/50\n",
      "35/35 [==============================] - 0s 5ms/step - loss: 2.1547 - accuracy: 0.5505\n",
      "Epoch 5/50\n",
      "35/35 [==============================] - 0s 6ms/step - loss: 1.6126 - accuracy: 0.5697\n",
      "Epoch 6/50\n",
      "35/35 [==============================] - 0s 4ms/step - loss: 1.2339 - accuracy: 0.5798\n",
      "Epoch 7/50\n",
      "35/35 [==============================] - 0s 5ms/step - loss: 1.1124 - accuracy: 0.5927\n",
      "Epoch 8/50\n",
      "35/35 [==============================] - 0s 5ms/step - loss: 0.9521 - accuracy: 0.6064\n",
      "Epoch 9/50\n",
      "35/35 [==============================] - 0s 5ms/step - loss: 0.9987 - accuracy: 0.6156\n",
      "Epoch 10/50\n",
      "35/35 [==============================] - 0s 5ms/step - loss: 0.9640 - accuracy: 0.6422\n",
      "Epoch 11/50\n",
      "35/35 [==============================] - 0s 5ms/step - loss: 0.8277 - accuracy: 0.6771\n",
      "Epoch 12/50\n",
      "35/35 [==============================] - 0s 5ms/step - loss: 0.8061 - accuracy: 0.6853\n",
      "Epoch 13/50\n",
      "35/35 [==============================] - 0s 5ms/step - loss: 0.6876 - accuracy: 0.7248\n",
      "Epoch 14/50\n",
      "35/35 [==============================] - 0s 5ms/step - loss: 0.8171 - accuracy: 0.6780\n",
      "Epoch 15/50\n",
      "35/35 [==============================] - 0s 5ms/step - loss: 0.6724 - accuracy: 0.7083\n",
      "Epoch 16/50\n",
      "35/35 [==============================] - 0s 5ms/step - loss: 0.7081 - accuracy: 0.7009\n",
      "Epoch 17/50\n",
      "35/35 [==============================] - 0s 5ms/step - loss: 0.6261 - accuracy: 0.7477\n",
      "Epoch 18/50\n",
      "35/35 [==============================] - 0s 5ms/step - loss: 0.5742 - accuracy: 0.7578\n",
      "Epoch 19/50\n",
      "35/35 [==============================] - 0s 5ms/step - loss: 0.6003 - accuracy: 0.7477\n",
      "Epoch 20/50\n",
      "35/35 [==============================] - 0s 5ms/step - loss: 0.5133 - accuracy: 0.7972\n",
      "Epoch 21/50\n",
      "35/35 [==============================] - 0s 5ms/step - loss: 0.5463 - accuracy: 0.7899\n",
      "Epoch 22/50\n",
      "35/35 [==============================] - 0s 5ms/step - loss: 0.5188 - accuracy: 0.7899\n",
      "Epoch 23/50\n",
      "35/35 [==============================] - 0s 5ms/step - loss: 0.4473 - accuracy: 0.8394\n",
      "Epoch 24/50\n",
      "35/35 [==============================] - 0s 5ms/step - loss: 0.4462 - accuracy: 0.8284\n",
      "Epoch 25/50\n",
      "35/35 [==============================] - 0s 5ms/step - loss: 0.4321 - accuracy: 0.8477\n",
      "Epoch 26/50\n",
      "35/35 [==============================] - 0s 5ms/step - loss: 0.3851 - accuracy: 0.8514\n",
      "Epoch 27/50\n",
      "35/35 [==============================] - 0s 5ms/step - loss: 0.3767 - accuracy: 0.8560\n",
      "Epoch 28/50\n",
      "35/35 [==============================] - 0s 5ms/step - loss: 0.3779 - accuracy: 0.8596\n",
      "Epoch 29/50\n",
      "35/35 [==============================] - 0s 5ms/step - loss: 0.3627 - accuracy: 0.8688\n",
      "Epoch 30/50\n",
      "35/35 [==============================] - 0s 5ms/step - loss: 0.3570 - accuracy: 0.8642\n",
      "Epoch 31/50\n",
      "35/35 [==============================] - 0s 5ms/step - loss: 0.4739 - accuracy: 0.8174\n",
      "Epoch 32/50\n",
      "35/35 [==============================] - 0s 5ms/step - loss: 0.4172 - accuracy: 0.8321\n",
      "Epoch 33/50\n",
      "35/35 [==============================] - 0s 5ms/step - loss: 0.3778 - accuracy: 0.8477\n",
      "Epoch 34/50\n",
      "35/35 [==============================] - 0s 5ms/step - loss: 0.3496 - accuracy: 0.8523\n",
      "Epoch 35/50\n",
      "35/35 [==============================] - 0s 5ms/step - loss: 0.3763 - accuracy: 0.8477\n",
      "Epoch 36/50\n",
      "35/35 [==============================] - 0s 5ms/step - loss: 0.3120 - accuracy: 0.8725\n",
      "Epoch 37/50\n",
      "35/35 [==============================] - 0s 5ms/step - loss: 0.4139 - accuracy: 0.8477\n",
      "Epoch 38/50\n",
      "35/35 [==============================] - 0s 5ms/step - loss: 0.3002 - accuracy: 0.8789\n",
      "Epoch 39/50\n",
      "35/35 [==============================] - 0s 6ms/step - loss: 0.3389 - accuracy: 0.8596\n",
      "Epoch 40/50\n",
      "35/35 [==============================] - 0s 5ms/step - loss: 0.2905 - accuracy: 0.8807\n",
      "Epoch 41/50\n",
      "35/35 [==============================] - 0s 5ms/step - loss: 0.3123 - accuracy: 0.8872\n",
      "Epoch 42/50\n",
      "35/35 [==============================] - 0s 5ms/step - loss: 0.3251 - accuracy: 0.8752\n",
      "Epoch 43/50\n",
      "35/35 [==============================] - 0s 5ms/step - loss: 0.5093 - accuracy: 0.8083\n",
      "Epoch 44/50\n",
      "35/35 [==============================] - 0s 5ms/step - loss: 0.3462 - accuracy: 0.8532\n",
      "Epoch 45/50\n",
      "35/35 [==============================] - 0s 5ms/step - loss: 0.3451 - accuracy: 0.8651\n",
      "Epoch 46/50\n",
      "35/35 [==============================] - 0s 5ms/step - loss: 0.2859 - accuracy: 0.8945\n",
      "Epoch 47/50\n",
      "35/35 [==============================] - 0s 5ms/step - loss: 0.3404 - accuracy: 0.8807\n",
      "Epoch 48/50\n",
      "35/35 [==============================] - 0s 5ms/step - loss: 0.2597 - accuracy: 0.9055\n",
      "Epoch 49/50\n",
      "35/35 [==============================] - 0s 5ms/step - loss: 0.2897 - accuracy: 0.8872\n",
      "Epoch 50/50\n",
      "35/35 [==============================] - 0s 5ms/step - loss: 0.2835 - accuracy: 0.8890\n"
     ]
    },
    {
     "data": {
      "text/plain": [
       "<keras.callbacks.History at 0x23b0528b7d0>"
      ]
     },
     "execution_count": 7,
     "metadata": {},
     "output_type": "execute_result"
    }
   ],
   "source": [
    "model.fit(points, mode, epochs=50, batch_size=32)"
   ]
  },
  {
   "cell_type": "code",
   "execution_count": 8,
   "metadata": {},
   "outputs": [],
   "source": [
    "model.save(\"model_for_gestures.h5\")\n"
   ]
  }
 ],
 "metadata": {
  "kernelspec": {
   "display_name": "Python 3",
   "language": "python",
   "name": "python3"
  },
  "language_info": {
   "codemirror_mode": {
    "name": "ipython",
    "version": 3
   },
   "file_extension": ".py",
   "mimetype": "text/x-python",
   "name": "python",
   "nbconvert_exporter": "python",
   "pygments_lexer": "ipython3",
   "version": "3.11.4"
  },
  "orig_nbformat": 4
 },
 "nbformat": 4,
 "nbformat_minor": 2
}
