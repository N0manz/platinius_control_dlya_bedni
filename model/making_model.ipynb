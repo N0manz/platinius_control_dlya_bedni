{
 "cells": [
  {
   "cell_type": "code",
   "execution_count": 1,
   "metadata": {},
   "outputs": [],
   "source": [
    "import tensorflow as tf\n",
    "import pickle\n",
    "from tensorflow import keras\n",
    "from tensorflow.keras.layers import Dense, Dropout\n",
    "import numpy as np\n",
    "from tensorflow.keras.utils import to_categorical"
   ]
  },
  {
   "cell_type": "code",
   "execution_count": 21,
   "metadata": {},
   "outputs": [],
   "source": [
    "dataset_filename = r\"D:\\platinus_control_dlya_bedni\\datasets\\volume_change_dataset\\dataset_for_volume_change\\dataset_for_volume_change.pickle\""
   ]
  },
  {
   "cell_type": "code",
   "execution_count": 22,
   "metadata": {},
   "outputs": [],
   "source": [
    "with open(dataset_filename, 'rb') as f:\n",
    "    dataset = pickle.load(f)"
   ]
  },
  {
   "cell_type": "code",
   "execution_count": 23,
   "metadata": {},
   "outputs": [],
   "source": [
    "points = []\n",
    "mode = []\n",
    "for data_point in dataset:\n",
    "    points.append([data_point['tumb_x'], data_point['tumb_y'], data_point['point_x'], data_point['point_y'], data_point['writst_x'], data_point['wrist_y']])\n",
    "    mode.append([data_point['mode']])\n",
    "\n",
    "points = np.array(points)\n",
    "mode = to_categorical(mode, 3)\n",
    "mode = np.array(mode)"
   ]
  },
  {
   "cell_type": "code",
   "execution_count": 24,
   "metadata": {},
   "outputs": [],
   "source": [
    "model = keras.Sequential([\n",
    "    Dense(256, activation='relu', input_shape=(6,)),\n",
    "    Dropout(0.25),\n",
    "    Dense(128, activation='relu'),\n",
    "    Dropout(0.25),\n",
    "    Dense(128, activation='relu'),\n",
    "    Dense(3, activation='softmax')\n",
    "])"
   ]
  },
  {
   "cell_type": "code",
   "execution_count": 25,
   "metadata": {},
   "outputs": [],
   "source": [
    "model.compile(optimizer='adam',\n",
    "              loss='categorical_crossentropy',\n",
    "              metrics=['accuracy'],\n",
    "              )"
   ]
  },
  {
   "cell_type": "code",
   "execution_count": 26,
   "metadata": {},
   "outputs": [
    {
     "name": "stdout",
     "output_type": "stream",
     "text": [
      "Epoch 1/50\n",
      "25/25 [==============================] - 2s 3ms/step - loss: 13.8857 - accuracy: 0.5421\n",
      "Epoch 2/50\n",
      "25/25 [==============================] - 0s 5ms/step - loss: 6.1514 - accuracy: 0.5446\n",
      "Epoch 3/50\n",
      "25/25 [==============================] - 0s 6ms/step - loss: 3.9830 - accuracy: 0.6071\n",
      "Epoch 4/50\n",
      "25/25 [==============================] - 0s 5ms/step - loss: 2.9045 - accuracy: 0.5765\n",
      "Epoch 5/50\n",
      "25/25 [==============================] - 0s 6ms/step - loss: 2.1530 - accuracy: 0.5855\n",
      "Epoch 6/50\n",
      "25/25 [==============================] - 0s 5ms/step - loss: 1.7428 - accuracy: 0.6097\n",
      "Epoch 7/50\n",
      "25/25 [==============================] - 0s 6ms/step - loss: 1.4460 - accuracy: 0.6148\n",
      "Epoch 8/50\n",
      "25/25 [==============================] - 0s 5ms/step - loss: 1.2775 - accuracy: 0.6454\n",
      "Epoch 9/50\n",
      "25/25 [==============================] - 0s 4ms/step - loss: 1.0858 - accuracy: 0.6378\n",
      "Epoch 10/50\n",
      "25/25 [==============================] - 0s 5ms/step - loss: 0.9621 - accuracy: 0.6403\n",
      "Epoch 11/50\n",
      "25/25 [==============================] - 0s 6ms/step - loss: 0.9051 - accuracy: 0.6709\n",
      "Epoch 12/50\n",
      "25/25 [==============================] - 0s 6ms/step - loss: 0.9017 - accuracy: 0.6684\n",
      "Epoch 13/50\n",
      "25/25 [==============================] - 0s 5ms/step - loss: 0.8016 - accuracy: 0.7041\n",
      "Epoch 14/50\n",
      "25/25 [==============================] - 0s 5ms/step - loss: 0.8136 - accuracy: 0.7156\n",
      "Epoch 15/50\n",
      "25/25 [==============================] - 0s 6ms/step - loss: 0.8142 - accuracy: 0.7028\n",
      "Epoch 16/50\n",
      "25/25 [==============================] - 0s 5ms/step - loss: 0.7428 - accuracy: 0.7309\n",
      "Epoch 17/50\n",
      "25/25 [==============================] - 0s 4ms/step - loss: 0.7341 - accuracy: 0.7232\n",
      "Epoch 18/50\n",
      "25/25 [==============================] - 0s 5ms/step - loss: 0.6937 - accuracy: 0.7462\n",
      "Epoch 19/50\n",
      "25/25 [==============================] - 0s 6ms/step - loss: 0.7358 - accuracy: 0.7232\n",
      "Epoch 20/50\n",
      "25/25 [==============================] - 0s 5ms/step - loss: 0.7508 - accuracy: 0.7283\n",
      "Epoch 21/50\n",
      "25/25 [==============================] - 0s 4ms/step - loss: 0.6896 - accuracy: 0.7526\n",
      "Epoch 22/50\n",
      "25/25 [==============================] - 0s 5ms/step - loss: 0.6562 - accuracy: 0.7666\n",
      "Epoch 23/50\n",
      "25/25 [==============================] - 0s 6ms/step - loss: 0.6060 - accuracy: 0.7730\n",
      "Epoch 24/50\n",
      "25/25 [==============================] - 0s 6ms/step - loss: 0.6413 - accuracy: 0.7717\n",
      "Epoch 25/50\n",
      "25/25 [==============================] - 0s 6ms/step - loss: 0.6238 - accuracy: 0.7717\n",
      "Epoch 26/50\n",
      "25/25 [==============================] - 0s 4ms/step - loss: 0.6178 - accuracy: 0.8023\n",
      "Epoch 27/50\n",
      "25/25 [==============================] - 0s 4ms/step - loss: 0.5933 - accuracy: 0.7921\n",
      "Epoch 28/50\n",
      "25/25 [==============================] - 0s 5ms/step - loss: 0.5967 - accuracy: 0.7972\n",
      "Epoch 29/50\n",
      "25/25 [==============================] - 0s 6ms/step - loss: 0.5369 - accuracy: 0.8240\n",
      "Epoch 30/50\n",
      "25/25 [==============================] - 0s 6ms/step - loss: 0.5888 - accuracy: 0.7985\n",
      "Epoch 31/50\n",
      "25/25 [==============================] - 0s 5ms/step - loss: 0.5647 - accuracy: 0.7985\n",
      "Epoch 32/50\n",
      "25/25 [==============================] - 0s 5ms/step - loss: 0.5126 - accuracy: 0.8265\n",
      "Epoch 33/50\n",
      "25/25 [==============================] - 0s 5ms/step - loss: 0.5150 - accuracy: 0.8278\n",
      "Epoch 34/50\n",
      "25/25 [==============================] - 0s 6ms/step - loss: 0.4861 - accuracy: 0.8406\n",
      "Epoch 35/50\n",
      "25/25 [==============================] - 0s 5ms/step - loss: 0.4797 - accuracy: 0.8380\n",
      "Epoch 36/50\n",
      "25/25 [==============================] - 0s 5ms/step - loss: 0.5332 - accuracy: 0.8163\n",
      "Epoch 37/50\n",
      "25/25 [==============================] - 0s 5ms/step - loss: 0.4749 - accuracy: 0.8457\n",
      "Epoch 38/50\n",
      "25/25 [==============================] - 0s 5ms/step - loss: 0.4908 - accuracy: 0.8380\n",
      "Epoch 39/50\n",
      "25/25 [==============================] - 0s 6ms/step - loss: 0.4977 - accuracy: 0.8342\n",
      "Epoch 40/50\n",
      "25/25 [==============================] - 0s 6ms/step - loss: 0.4626 - accuracy: 0.8571\n",
      "Epoch 41/50\n",
      "25/25 [==============================] - 0s 6ms/step - loss: 0.4852 - accuracy: 0.8406\n",
      "Epoch 42/50\n",
      "25/25 [==============================] - 0s 5ms/step - loss: 0.4873 - accuracy: 0.8469\n",
      "Epoch 43/50\n",
      "25/25 [==============================] - 0s 5ms/step - loss: 0.4722 - accuracy: 0.8469\n",
      "Epoch 44/50\n",
      "25/25 [==============================] - 0s 5ms/step - loss: 0.4662 - accuracy: 0.8610\n",
      "Epoch 45/50\n",
      "25/25 [==============================] - 0s 6ms/step - loss: 0.4695 - accuracy: 0.8571\n",
      "Epoch 46/50\n",
      "25/25 [==============================] - 0s 5ms/step - loss: 0.4466 - accuracy: 0.8610\n",
      "Epoch 47/50\n",
      "25/25 [==============================] - 0s 5ms/step - loss: 0.4413 - accuracy: 0.8508\n",
      "Epoch 48/50\n",
      "25/25 [==============================] - 0s 6ms/step - loss: 0.4457 - accuracy: 0.8571\n",
      "Epoch 49/50\n",
      "25/25 [==============================] - 0s 6ms/step - loss: 0.4226 - accuracy: 0.8661\n",
      "Epoch 50/50\n",
      "25/25 [==============================] - 0s 6ms/step - loss: 0.4572 - accuracy: 0.8584\n"
     ]
    },
    {
     "data": {
      "text/plain": [
       "<keras.callbacks.History at 0x232bd0dcb10>"
      ]
     },
     "execution_count": 26,
     "metadata": {},
     "output_type": "execute_result"
    }
   ],
   "source": [
    "model.fit(points, mode, epochs=50, batch_size=32)"
   ]
  },
  {
   "cell_type": "code",
   "execution_count": 20,
   "metadata": {},
   "outputs": [],
   "source": [
    "model.save(\"model_for_gestures.h5\")\n"
   ]
  }
 ],
 "metadata": {
  "kernelspec": {
   "display_name": "Python 3",
   "language": "python",
   "name": "python3"
  },
  "language_info": {
   "codemirror_mode": {
    "name": "ipython",
    "version": 3
   },
   "file_extension": ".py",
   "mimetype": "text/x-python",
   "name": "python",
   "nbconvert_exporter": "python",
   "pygments_lexer": "ipython3",
   "version": "3.11.4"
  },
  "orig_nbformat": 4
 },
 "nbformat": 4,
 "nbformat_minor": 2
}
