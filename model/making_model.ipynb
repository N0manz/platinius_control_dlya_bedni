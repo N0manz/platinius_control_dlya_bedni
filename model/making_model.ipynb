{
 "cells": [
  {
   "cell_type": "code",
   "execution_count": 10,
   "metadata": {},
   "outputs": [],
   "source": [
    "import tensorflow as tf\n",
    "import pickle\n",
    "from tensorflow import keras\n",
    "from tensorflow.keras.layers import Dense, Flatten\n",
    "import numpy as np"
   ]
  },
  {
   "cell_type": "code",
   "execution_count": 3,
   "metadata": {},
   "outputs": [],
   "source": [
    "dataset_filename = r\"D:\\platinus_control_dlya_bedni\\datasets\\volume_change_dataset\\dataset_for_volume_change\\dataset_for_volume_change.pickle\""
   ]
  },
  {
   "cell_type": "code",
   "execution_count": 5,
   "metadata": {},
   "outputs": [],
   "source": [
    "with open(dataset_filename, 'rb') as f:\n",
    "    dataset = pickle.load(f)"
   ]
  },
  {
   "cell_type": "code",
   "execution_count": 11,
   "metadata": {},
   "outputs": [],
   "source": [
    "points = []\n",
    "should_change = []\n",
    "\n",
    "for data_point in dataset:\n",
    "    points.append([data_point['tumb_x'], data_point['tumb_y'], data_point['point_x'], data_point['point_y'], data_point['writst_x'], data_point['wrist_y']])\n",
    "    should_change.append(data_point['should_change_volume'])\n",
    "\n",
    "points = np.array(points)\n",
    "should_change = np.array(should_change)"
   ]
  },
  {
   "cell_type": "code",
   "execution_count": 15,
   "metadata": {},
   "outputs": [],
   "source": [
    "model = keras.Sequential([\n",
    "    Dense(64, activation='relu', input_shape=(6,)),\n",
    "    Dense(32, activation='relu'),\n",
    "    Dense(1, activation='sigmoid')\n",
    "])"
   ]
  },
  {
   "cell_type": "code",
   "execution_count": 17,
   "metadata": {},
   "outputs": [],
   "source": [
    "model.compile(optimizer='adam',\n",
    "              loss='binary_crossentropy',\n",
    "              metrics=['accuracy'],\n",
    "              )"
   ]
  },
  {
   "cell_type": "code",
   "execution_count": 19,
   "metadata": {},
   "outputs": [
    {
     "name": "stdout",
     "output_type": "stream",
     "text": [
      "Epoch 1/10\n",
      " 1/19 [>.............................] - ETA: 0s - loss: 0.5477 - accuracy: 0.9688"
     ]
    },
    {
     "name": "stdout",
     "output_type": "stream",
     "text": [
      "19/19 [==============================] - 0s 2ms/step - loss: 0.1231 - accuracy: 0.9568\n",
      "Epoch 2/10\n",
      "19/19 [==============================] - 0s 2ms/step - loss: 0.1282 - accuracy: 0.9585\n",
      "Epoch 3/10\n",
      "19/19 [==============================] - 0s 3ms/step - loss: 0.1135 - accuracy: 0.9684\n",
      "Epoch 4/10\n",
      "19/19 [==============================] - 0s 2ms/step - loss: 0.1331 - accuracy: 0.9651\n",
      "Epoch 5/10\n",
      "19/19 [==============================] - 0s 3ms/step - loss: 0.1275 - accuracy: 0.9668\n",
      "Epoch 6/10\n",
      "19/19 [==============================] - 0s 3ms/step - loss: 0.1123 - accuracy: 0.9701\n",
      "Epoch 7/10\n",
      "19/19 [==============================] - 0s 4ms/step - loss: 0.1281 - accuracy: 0.9701\n",
      "Epoch 8/10\n",
      "19/19 [==============================] - 0s 3ms/step - loss: 0.1026 - accuracy: 0.9668\n",
      "Epoch 9/10\n",
      "19/19 [==============================] - 0s 4ms/step - loss: 0.0905 - accuracy: 0.9784\n",
      "Epoch 10/10\n",
      "19/19 [==============================] - 0s 2ms/step - loss: 0.0979 - accuracy: 0.9751\n"
     ]
    },
    {
     "data": {
      "text/plain": [
       "<keras.callbacks.History at 0x229d5124450>"
      ]
     },
     "execution_count": 19,
     "metadata": {},
     "output_type": "execute_result"
    }
   ],
   "source": [
    "model.fit(points, should_change, epochs=10, batch_size=32)"
   ]
  },
  {
   "cell_type": "code",
   "execution_count": 20,
   "metadata": {},
   "outputs": [],
   "source": [
    "model.save(\"volume_change.h5\")\n"
   ]
  }
 ],
 "metadata": {
  "kernelspec": {
   "display_name": "Python 3",
   "language": "python",
   "name": "python3"
  },
  "language_info": {
   "codemirror_mode": {
    "name": "ipython",
    "version": 3
   },
   "file_extension": ".py",
   "mimetype": "text/x-python",
   "name": "python",
   "nbconvert_exporter": "python",
   "pygments_lexer": "ipython3",
   "version": "3.11.4"
  },
  "orig_nbformat": 4
 },
 "nbformat": 4,
 "nbformat_minor": 2
}
